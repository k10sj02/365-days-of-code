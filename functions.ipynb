def square_sum(numbers):
    total = 0
    for number in numbers:
        total = total + number **2
    return total
